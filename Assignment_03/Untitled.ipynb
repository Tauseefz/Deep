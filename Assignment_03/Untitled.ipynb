{
 "cells": [
  {
   "cell_type": "code",
   "execution_count": 1,
   "metadata": {},
   "outputs": [],
   "source": [
    "#loading data \n",
    "import numpy as np\n",
    "from sklearn.datasets import fetch_mldata\n",
    "from sklearn.model_selection import train_test_split\n",
    "mnist = fetch_mldata('MNIST original')\n",
    "X = mnist.data\n",
    "y = mnist.target"
   ]
  },
  {
   "cell_type": "code",
   "execution_count": 4,
   "metadata": {},
   "outputs": [
    {
     "data": {
      "image/png": "[encoded data removed]",
      "text/plain": [
       "<Figure size 432x288 with 1 Axes>"
      ]
     },
     "metadata": {},
     "output_type": "display_data"
    }
   ],
   "source": [
    "#visualizating data\n",
    "import matplotlib.pyplot as plt\n",
    "j = 30000\n",
    "plt.title('The jth image is a {label}'.format(label=int(y[j])))\n",
    "plt.imshow(X[j].reshape((28,28)), cmap='gray')\n",
    "plt.show()"
   ]
  },
  {
   "cell_type": "code",
   "execution_count": 3,
   "metadata": {},
   "outputs": [
    {
     "data": {
      "text/plain": [
       "(13782, 784)"
      ]
     },
     "execution_count": 3,
     "metadata": {},
     "output_type": "execute_result"
    }
   ],
   "source": [
    "#getting data of two classes 4 and 9\n",
    "train_filter = np.where((y == 9 ) | (y == 4))\n",
    "X_train, Y_train = X[train_filter], y[train_filter]\n",
    "X_train.shape #both classes datapoints"
   ]
  },
  {
   "cell_type": "code",
   "execution_count": 5,
   "metadata": {},
   "outputs": [
    {
     "data": {
      "text/plain": [
       "(13782, 784)"
      ]
     },
     "execution_count": 5,
     "metadata": {},
     "output_type": "execute_result"
    }
   ],
   "source": [
    "X_train1, X_test, y_train1, y_test = train_test_split(X_train, Y_train, test_size=0.415, random_state=42)\n",
    "X_train1.shape #both classes train data"
   ]
  },
  {
   "cell_type": "code",
   "execution_count": 6,
   "metadata": {},
   "outputs": [
    {
     "data": {
      "text/plain": [
       "(2419, 784)"
      ]
     },
     "execution_count": 6,
     "metadata": {},
     "output_type": "execute_result"
    }
   ],
   "source": [
    "X_train, X_val, y_train, y_val = train_test_split(X_train1, y_train1, test_size=0.30, random_state=42)\n",
    "X_val.shape #validation set"
   ]
  },
  {
   "cell_type": "code",
   "execution_count": 7,
   "metadata": {},
   "outputs": [],
   "source": [
    "from sklearn import svm\n",
    "import random\n",
    "random.seed(1)\n",
    "min_c = []\n",
    "from sklearn.metrics import zero_one_loss\n",
    "C = [0.00010,0.0010 , 0.010 , 0.10 , 1,10 , 100 , 1000 , 10000]\n",
    "for c in C:\n",
    "    clf= svm.SVC(C = c ,kernel='poly' , degree = 1)\n",
    "    clf.fit(X_train,y_train) \n",
    "    val_y = clf.predict(X_val)\n",
    "    error = round(zero_one_loss(y_val, val_y),5)\n",
    "    min_c.append(error)"
   ]
  },
  {
   "cell_type": "code",
   "execution_count": 8,
   "metadata": {},
   "outputs": [
    {
     "data": {
      "text/plain": [
       "[0.03679,\n",
       " 0.03224,\n",
       " 0.03555,\n",
       " 0.04878,\n",
       " 0.05167,\n",
       " 0.05167,\n",
       " 0.05167,\n",
       " 0.05167,\n",
       " 0.05167]"
      ]
     },
     "execution_count": 8,
     "metadata": {},
     "output_type": "execute_result"
    }
   ],
   "source": [
    "min_c"
   ]
  },
  {
   "cell_type": "code",
   "execution_count": 9,
   "metadata": {},
   "outputs": [
    {
     "data": {
      "text/plain": [
       "335"
      ]
     },
     "execution_count": 9,
     "metadata": {},
     "output_type": "execute_result"
    }
   ],
   "source": [
    "clf.support_vectors_.shape[0]"
   ]
  },
  {
   "cell_type": "code",
   "execution_count": 18,
   "metadata": {},
   "outputs": [
    {
     "data": {
      "image/png": "[encoded data removed]",
      "text/plain": [
       "<Figure size 432x288 with 16 Axes>"
      ]
     },
     "metadata": {},
     "output_type": "display_data"
    }
   ],
   "source": [
    "clf.decision_function(X_test)\n",
    "f, axarr = plt.subplots(4, 4)\n",
    "j = 0 \n",
    "for j in range(16):\n",
    "    axarr[0, 0].imshow(X_test[j].reshape((28,28)), cmap='gray')\n",
    "    axarr[0, 0].set_title('{label}'.format(label=int(y_test[j])))\n",
    "\n",
    "    plt.show()"
   ]
  },
  {
   "cell_type": "code",
   "execution_count": null,
   "metadata": {},
   "outputs": [],
   "source": [
    "#training on all training_data\n",
    "clf_all= svm.SVC(C = 0.0010 ,kernel='poly' , degree = 1)\n",
    "clf_all.fit(X_train1,y_train1)"
   ]
  },
  {
   "cell_type": "code",
   "execution_count": null,
   "metadata": {},
   "outputs": [],
   "source": [
    "#predicting the test data\n",
    "y_pred = clf.predict(X_test)\n",
    "round(zero_one_loss(y_test, y_pred),5)"
   ]
  },
  {
   "cell_type": "code",
   "execution_count": null,
   "metadata": {},
   "outputs": [],
   "source": [
    "min_c = []\n",
    "for c in C:\n",
    "    clf2= svm.SVC(C = c ,kernel='poly' , degree = 2)\n",
    "    clf2.fit(X_train,y_train) \n",
    "    val_y = clf2.predict(X_val)\n",
    "    error = round(zero_one_loss(y_val, val_y),5)\n",
    "    min_c.append(error)"
   ]
  },
  {
   "cell_type": "code",
   "execution_count": null,
   "metadata": {},
   "outputs": [],
   "source": [
    "min_c"
   ]
  },
  {
   "cell_type": "code",
   "execution_count": null,
   "metadata": {},
   "outputs": [],
   "source": [
    "#training on all training_data\n",
    "clf_all= svm.SVC(C = 0.0010 ,kernel='poly' , degree = 1)\n",
    "clf_all.fit(X_train1,y_train1)"
   ]
  },
  {
   "cell_type": "code",
   "execution_count": null,
   "metadata": {},
   "outputs": [],
   "source": [
    "#predicting the test data\n",
    "y_pred = clf_all.predict(X_test)\n",
    "round(zero_one_loss(y_test, y_pred),5)"
   ]
  },
  {
   "cell_type": "code",
   "execution_count": null,
   "metadata": {},
   "outputs": [],
   "source": [
    "clf_all.support_vectors_.shape[0]"
   ]
  },
  {
   "cell_type": "code",
   "execution_count": null,
   "metadata": {},
   "outputs": [],
   "source": [
    "min_c = []\n",
    "for c in C:\n",
    "    clf2= svm.SVC(C = c ,kernel='rbf' , gamma = 0.003)\n",
    "    clf2.fit(X_train,y_train) \n",
    "    val_y = clf2.predict(X_val)\n",
    "    error = round(zero_one_loss(y_val, val_y),5)\n",
    "    min_c.append(error)"
   ]
  },
  {
   "cell_type": "code",
   "execution_count": null,
   "metadata": {},
   "outputs": [],
   "source": [
    "min_c"
   ]
  },
  {
   "cell_type": "code",
   "execution_count": null,
   "metadata": {},
   "outputs": [],
   "source": [
    "import matplotlib.pyplot as plt"
   ]
  },
  {
   "cell_type": "code",
   "execution_count": null,
   "metadata": {},
   "outputs": [],
   "source": [
    "#x = np.random.rand(56)\n",
    "c = 12\n",
    "l = []\n",
    "x = [0 , 9 , 8 , 4 , 7 , 8 , 5 , 7 , 12 , 15 , 18 , 21 , 20 , 40  ]"
   ]
  },
  {
   "cell_type": "code",
   "execution_count": null,
   "metadata": {},
   "outputs": [],
   "source": [
    "for i in x:\n",
    "    l.append(max(0 , (c - i)))"
   ]
  },
  {
   "cell_type": "code",
   "execution_count": null,
   "metadata": {},
   "outputs": [],
   "source": [
    "plt.plot(x , l)"
   ]
  },
  {
   "cell_type": "code",
   "execution_count": null,
   "metadata": {},
   "outputs": [],
   "source": []
  }
 ],
 "metadata": {
  "kernelspec": {
   "display_name": "Python 3",
   "language": "python",
   "name": "python3"
  },
  "language_info": {
   "codemirror_mode": {
    "name": "ipython",
    "version": 3
   },
   "file_extension": ".py",
   "mimetype": "text/x-python",
   "name": "python",
   "nbconvert_exporter": "python",
   "pygments_lexer": "ipython3",
   "version": "3.6.5"
  }
 },
 "nbformat": 4,
 "nbformat_minor": 2
}
