{
 "cells": [
  {
   "cell_type": "code",
   "execution_count": 52,
   "metadata": {},
   "outputs": [],
   "source": [
    "# Include libraries which may use in implementation\n",
    "import numpy as np\n",
    "import random\n",
    "import matplotlib.pyplot as plt\n",
    "from matplotlib.image import imread\n",
    "import glob\n",
    "import cv2 as img\n",
    "from sklearn.preprocessing import OneHotEncoder\n",
    "%matplotlib inline\n"
   ]
  },
  {
   "cell_type": "code",
   "execution_count": 16,
   "metadata": {},
   "outputs": [],
   "source": [
    "train_x=[]\n",
    "train_y = []\n",
    "test_x = []\n",
    "test_y = []\n",
    "\n",
    "path = 'C:\\\\Users\\\\Tauseef Chahal\\\\DeepLearning_Code\\\\Deep\\\\Assignment2\\\\Task3_Data\\\\'\n",
    "for i in range(10):\n",
    "    for filename in glob.glob(path+'\\\\train\\\\'+str(i)+'\\\\*.png'):\n",
    "        im = img.imread(filename)\n",
    "        train_x.append(im)\n",
    "        train_y.append(i)\n",
    "for i in range(10):\n",
    "    for filename in glob.glob(path+'\\\\test\\\\'+str(i)+'\\\\*.png'):\n",
    "        im = img.imread(filename)\n",
    "        test_x.append(im)\n",
    "        test_y.append(i)\n",
    "\n",
    "\n",
    "train_x = np.array(train_x)\n",
    "train_y = np.array(train_y)\n",
    "test_x = np.array(test_x)\n",
    "test_y = np.array(test_y)"
   ]
  },
  {
   "cell_type": "code",
   "execution_count": 73,
   "metadata": {},
   "outputs": [
    {
     "data": {
      "text/plain": [
       "<matplotlib.image.AxesImage at 0x8880917748>"
      ]
     },
     "execution_count": 73,
     "metadata": {},
     "output_type": "execute_result"
    },
    {
     "data": {
      "image/png": "[encoded data removed]",
      "text/plain": [
       "<Figure size 432x288 with 1 Axes>"
      ]
     },
     "metadata": {},
     "output_type": "display_data"
    }
   ],
   "source": [
    "\n",
    "plt.imshow(train_x[9000])"
   ]
  },
  {
   "cell_type": "code",
   "execution_count": 74,
   "metadata": {},
   "outputs": [
    {
     "name": "stdout",
     "output_type": "stream",
     "text": [
      "(60000, 28, 28, 3)\n",
      "30000\n"
     ]
    }
   ],
   "source": [
    "print(train_x.shape)\n",
    "\n",
    "print(m)"
   ]
  },
  {
   "cell_type": "code",
   "execution_count": 4,
   "metadata": {},
   "outputs": [
    {
     "data": {
      "text/plain": [
       "(60000, 10)"
      ]
     },
     "execution_count": 4,
     "metadata": {},
     "output_type": "execute_result"
    }
   ],
   "source": [
    "enc = OneHotEncoder(handle_unknown='ignore')\n",
    "\n",
    "enc.fit(train_y.reshape(train_y.shape[0],1))\n",
    "train_y_hat = enc.transform(train_y.reshape(train_y.shape[0],1))\n",
    "train_y_hat.shape"
   ]
  },
  {
   "cell_type": "code",
   "execution_count": 18,
   "metadata": {},
   "outputs": [
    {
     "data": {
      "text/plain": [
       "(17, 17, 36)"
      ]
     },
     "execution_count": 18,
     "metadata": {},
     "output_type": "execute_result"
    }
   ],
   "source": [
    "import scipy.io #loading data from a mat file\n",
    "data = scipy.io.loadmat('filters.mat') \n",
    "filters = data['filters'] \n",
    "filters = np.array(filters)\n",
    "filters.shape"
   ]
  },
  {
   "cell_type": "code",
   "execution_count": 25,
   "metadata": {},
   "outputs": [
    {
     "data": {
      "text/plain": [
       "36"
      ]
     },
     "execution_count": 25,
     "metadata": {},
     "output_type": "execute_result"
    }
   ],
   "source": [
    "#filters[0].shape[-1]\n",
    "filters.shape[2]"
   ]
  },
  {
   "cell_type": "code",
   "execution_count": 22,
   "metadata": {},
   "outputs": [],
   "source": []
  },
  {
   "cell_type": "code",
   "execution_count": 26,
   "metadata": {},
   "outputs": [],
   "source": [
    "def conv_single_step(img_patch, filters):\n",
    "    x_w = np.multiply(img_patch,filters)\n",
    "    return np.sum(x_w)"
   ]
  },
  {
   "cell_type": "code",
   "execution_count": 35,
   "metadata": {},
   "outputs": [],
   "source": [
    "def conv_forward(x,filters):\n",
    "\n",
    "    filters_dim , filters_dim , n_b = filters.shape\n",
    "    m , image_dim , image_dim , channels = train_x.shape\n",
    "    new_img = image_dim - filters_dim + 1\n",
    "    \n",
    "    new_dim = np.zeros((m, n_b, new_img, new_img));\n",
    "    for i in range(m):\n",
    "         for j in range(n_b):\n",
    "            \n",
    "            temp_img = np.zeros((new_img, new_img))\n",
    "            for c in range(channels):\n",
    "                f = filters[:, :,j]\n",
    "                image   = x[i, :, :, c]\n",
    "                temp_img = temp_img + conv_single_step(i, j);\n",
    "\n",
    "            new_dim[i, j, :, :] = temp_img\n",
    "    return new_dim"
   ]
  },
  {
   "cell_type": "code",
   "execution_count": 32,
   "metadata": {},
   "outputs": [],
   "source": [
    "convulved = conv_forward(train_x,filters)"
   ]
  },
  {
   "cell_type": "code",
   "execution_count": 43,
   "metadata": {},
   "outputs": [
    {
     "name": "stdout",
     "output_type": "stream",
     "text": [
      "36\n"
     ]
    }
   ],
   "source": [
    "print(convulved.shape[1])"
   ]
  },
  {
   "cell_type": "code",
   "execution_count": null,
   "metadata": {},
   "outputs": [],
   "source": [
    "def relu(feature_map):\n",
    "    #Preparing the output of the ReLU activation function.\n",
    "    relu_out = np.zeros(feature_map.shape)\n",
    "    for map_num in range(feature_map.shape[-1]):\n",
    "        for r in np.arange(0,feature_map.shape[0]):\n",
    "            for c in np.arange(0, feature_map.shape[1]):\n",
    "                relu_out[r, c, map_num] = np.max([feature_map[r, c, map_num].all(), 0])\n",
    "    return relu_out"
   ]
  },
  {
   "cell_type": "code",
   "execution_count": 38,
   "metadata": {},
   "outputs": [],
   "source": [
    "def pooling(feature_map, size=2, stride=2):\n",
    "       m , filter_dim,img_dim , img_dim =feature_map.shape\n",
    "    max_pool = np.zeros((np.uint16((m-size+1)/stride+1),\n",
    "                            np.uint16((filter_dim -size+1)/stride+1),\n",
    "                            img_dim))\n",
    "    for i in range(img_dim):\n",
    "        img = 0\n",
    "        for j in np.arange(0,m-size+1, stride):\n",
    "            fil = 0\n",
    "            for c in np.arange(0, filter_dim-size+1, stride):\n",
    "                max_pool[img, fil, i] = np.max([feature_map[j:j+size,  i:i+size]])\n",
    "                fil = fil + 1\n",
    "            img = img +1\n",
    "    return max_pool"
   ]
  },
  {
   "cell_type": "code",
   "execution_count": 54,
   "metadata": {},
   "outputs": [
    {
     "name": "stdout",
     "output_type": "stream",
     "text": [
      "(30000, 18, 12)\n"
     ]
    }
   ],
   "source": [
    "maxpool = pooling((convulved))\n",
    "print(maxpool.shape)"
   ]
  },
  {
   "cell_type": "code",
   "execution_count": 58,
   "metadata": {},
   "outputs": [
    {
     "name": "stdout",
     "output_type": "stream",
     "text": [
      "(30000, 216)\n"
     ]
    }
   ],
   "source": [
    "X = np.zeros((maxpool.shape[0],np.prod(maxpool.shape[1:])))\n",
    "for i in range(X.shape[0]):\n",
    "    X[i,:] = maxpool[i].flatten(order='C')\n",
    "print(X.shape)"
   ]
  },
  {
   "cell_type": "code",
   "execution_count": 68,
   "metadata": {},
   "outputs": [],
   "source": [
    "def softmax(A):  \n",
    "    expA = np.exp(A)\n",
    "    return expA / expA.sum()"
   ]
  },
  {
   "cell_type": "code",
   "execution_count": 61,
   "metadata": {},
   "outputs": [],
   "source": [
    "m , attr = X.shape\n",
    "hidden_nodes=4\n",
    "output_labels=10\n"
   ]
  },
  {
   "cell_type": "code",
   "execution_count": 66,
   "metadata": {},
   "outputs": [],
   "source": [
    "def sigmoid(s):\n",
    "    return 1/(1+np.exp(-s))\n",
    "def sigmoid_derivative(  s):\n",
    "    return self.sigmoid(s)* (1 - self.sigmoid(s))"
   ]
  },
  {
   "cell_type": "code",
   "execution_count": 62,
   "metadata": {},
   "outputs": [],
   "source": [
    "w1 = np.random.rand(m,hidden_nodes)  \n",
    "b1 = np.random.randn(hidden_nodes)\n",
    "\n",
    "w2 = np.random.rand(hidden_nodes,output_labels)  \n",
    "b2 = np.random.randn(output_labels)  \n",
    "lr = 0.003"
   ]
  },
  {
   "cell_type": "code",
   "execution_count": 70,
   "metadata": {},
   "outputs": [
    {
     "ename": "ValueError",
     "evalue": "operands could not be broadcast together with shapes (216,10) (60000,) ",
     "output_type": "error",
     "traceback": [
      "\u001b[1;31m---------------------------------------------------------------------------\u001b[0m",
      "\u001b[1;31mValueError\u001b[0m                                Traceback (most recent call last)",
      "\u001b[1;32m<ipython-input-70-b4bea6c83e90>\u001b[0m in \u001b[0;36m<module>\u001b[1;34m()\u001b[0m\n\u001b[0;32m      8\u001b[0m \u001b[1;33m\u001b[0m\u001b[0m\n\u001b[0;32m      9\u001b[0m \u001b[1;31m#back_progpogate\u001b[0m\u001b[1;33m\u001b[0m\u001b[1;33m\u001b[0m\u001b[0m\n\u001b[1;32m---> 10\u001b[1;33m     \u001b[0mdcost_dzo\u001b[0m \u001b[1;33m=\u001b[0m \u001b[0ma2\u001b[0m \u001b[1;33m-\u001b[0m \u001b[0mtrain_y\u001b[0m\u001b[1;33m\u001b[0m\u001b[0m\n\u001b[0m\u001b[0;32m     11\u001b[0m     \u001b[0mdzo_dwo\u001b[0m \u001b[1;33m=\u001b[0m \u001b[0ma1\u001b[0m\u001b[1;33m\u001b[0m\u001b[0m\n\u001b[0;32m     12\u001b[0m \u001b[1;33m\u001b[0m\u001b[0m\n",
      "\u001b[1;31mValueError\u001b[0m: operands could not be broadcast together with shapes (216,10) (60000,) "
     ]
    }
   ],
   "source": [
    "for epoch in range(4):\n",
    "#forward_Progpogate\n",
    "    z = np.dot(X.T, w1) + b1\n",
    "    a1 = sigmoid(z)\n",
    "\n",
    "    z_out = np.dot(a1, w2) + b2\n",
    "    a2 = softmax(z_out)\n",
    "\n",
    "#back_progpogate\n",
    "    dcost_dzo = a2 - train_y\n",
    "    dzo_dwo = a1\n",
    "\n",
    "    dcost_w2 = np.dot(dzo_dwo.T, dcost_dzo)\n",
    "\n",
    "    dcost_b2 = dcost_dzo\n",
    "\n",
    "    dzo_dah = w2\n",
    "    dcost_dah = np.dot(dcost_dzo , dzo_dah.T)\n",
    "    dah_dzh = sigmoid_der(zh)\n",
    "    dzh_dwh = feature_set\n",
    "    dcost_wh = np.dot(dzh_dwh.T, dah_dzh * dcost_dah)\n",
    "\n",
    "    dcost_bh = dcost_dah * dah_dzh\n",
    "    wh -= lr * dcost_wh\n",
    "    bh -= lr * dcost_bh.sum(axis=0)\n",
    "\n",
    "    wo -= lr * dcost_wo\n",
    "    bo -= lr * dcost_bo.sum(axis=0)"
   ]
  },
  {
   "cell_type": "code",
   "execution_count": 50,
   "metadata": {},
   "outputs": [],
   "source": []
  },
  {
   "cell_type": "code",
   "execution_count": null,
   "metadata": {},
   "outputs": [],
   "source": []
  }
 ],
 "metadata": {
  "kernelspec": {
   "display_name": "Python 3",
   "language": "python",
   "name": "python3"
  },
  "language_info": {
   "codemirror_mode": {
    "name": "ipython",
    "version": 3
   },
   "file_extension": ".py",
   "mimetype": "text/x-python",
   "name": "python",
   "nbconvert_exporter": "python",
   "pygments_lexer": "ipython3",
   "version": "3.6.5"
  }
 },
 "nbformat": 4,
 "nbformat_minor": 2
}
