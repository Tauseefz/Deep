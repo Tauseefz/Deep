{
 "cells": [
  {
   "cell_type": "markdown",
   "metadata": {},
   "source": [
    "<h1><center>Deep Learning</center></h1>\n",
    "<h2><center>Assignment # 2</center></h2>\n",
    "<h3><center>Task # 2</center></h3>"
   ]
  },
  {
   "cell_type": "code",
   "execution_count": 2,
   "metadata": {},
   "outputs": [],
   "source": [
    "# Include libraries which may use in implementation\n",
    "import numpy as np\n",
    "import random\n",
    "import sklearn.datasets as ds\n",
    "import matplotlib.pyplot as plt\n",
    "%matplotlib inline\n"
   ]
  },
  {
   "cell_type": "code",
   "execution_count": null,
   "metadata": {},
   "outputs": [],
   "source": [
    "# Create a Neural_Network class\n",
    "class Neural_Network(object):        \n",
    "    def __init__(self,inputSize = 2,hiddenlayer = 3 outputSize = 1 ):        \n",
    "        # size of layers\n",
    "        self.inputSize = inputSize\n",
    "        self.outputSize = outputSize \n",
    "        self.hiddenLayer = hiddenlayer\n",
    "        #weights\n",
    "        self.W1 = np.random.rand(self.inputSize+1,self.outputSize)\n",
    "        # randomly initialize W1 using random function of numpy\n",
    "        # size of the wieght will be (inputSize +1, hiddenlayer) that +1 is for bias    \n",
    "        self.W2 = np.random.randn(self.hiddenSize, self.outputSize) # randomly initialize W2 using random function of numpy\n",
    "        # size of the wieght will be (hiddenlayer +1, outputSize) that +1 is for bias    \n",
    "        \n",
    "    def feedforward(self, X):\n",
    "        #forward propagation through our network\n",
    "        # dot product of X (input) and set of weights\n",
    "        # apply activation function (i.e. whatever function was passed in initialization)  \n",
    "        temp_x = self.sigmoid(np.dot(self.sigmoid(np.dot(X , self.W1)),self.W2))\n",
    "        return temp_x # return your answer with as a final output of the network\n",
    "\n",
    "    def sigmoid(self, s):\n",
    "        # activation function\n",
    "        return 1/(1+np.exp(-s))  # apply sigmoid function on s and return it's value\n",
    "\n",
    "    def sigmoid_derivative(self, s):\n",
    "        #derivative of sigmoid\n",
    "        return self.sigmoid(s)* (1 - self.sigmoid(s)) # apply derivative of sigmoid on s and return it's value \n",
    "    \n",
    "    def tanh(self, s):\n",
    "        # activation function\n",
    "        return np.tanh(s) # apply tanh function on s and return it's value\n",
    "\n",
    "    def tanh_derivative(self, s):\n",
    "        #derivative of tanh\n",
    "        return 1.0 - np.tanh(s)**2 # apply derivative of tanh on s and return it's value\n",
    "    \n",
    "    def relu(self, s):\n",
    "        # activation function\n",
    "        if s >= 0 :\n",
    "            return s\n",
    "        else:\n",
    "            return 0 # apply relu function on s and return it's value\n",
    "\n",
    "    def relu_derivative(self, s):\n",
    "        #derivative of relu\n",
    "        if s >= 0:\n",
    "            return 1\n",
    "        else:\n",
    "            return 0\n",
    "         # apply derivative of relu on s and return it's value\n",
    "\n",
    "    def backwardpropagate(self,X, Y, y_pred, lr):\n",
    "        # backward propagate through the network\n",
    "        # compute error in output which is loss compute cross entropy loss function\n",
    "        # applying derivative of that applied activation function to the error\n",
    "        # adjust set of weights\n",
    "    \n",
    "    def crossentropy(self, Y, Y_pred):\n",
    "        # compute error based on crossentropy loss \n",
    "        return ? #error\n",
    "\n",
    "    def train(self, trainX, trainY,epochs = 100, learningRate = 0.001, plot_err = True ,validationX = Null, validationY = Null):\n",
    "        # feed forward trainX and trainY and recivce predicted value\n",
    "        # backpropagation with trainX, trainY, predicted value and learning rate.\n",
    "        # if validationX and validationY are not null than show validation accuracy and error of the model by printing values.\n",
    "        # plot error of the model if plot_err is true\n",
    "\n",
    "    def predict(self, testX):\n",
    "        # predict the value of testX\n",
    "    \n",
    "    def accuracy(self, testX, testY):\n",
    "        # predict the value of trainX\n",
    "        # compare it with testY\n",
    "        # compute accuracy, print it and show in the form of picture\n",
    "        return ? # return accuracy    \n",
    "        \n",
    "    def saveModel(self,name):\n",
    "        # save your trained model, it is your interpretation how, which and what data you store\n",
    "        # which you will use later for prediction\n",
    "\n",
    "        \n",
    "    def loadModel(self,name):\n",
    "        # load your trained model, load exactly how you stored it.\n",
    "\n",
    "    \n"
   ]
  },
  {
   "cell_type": "code",
   "execution_count": 4,
   "metadata": {},
   "outputs": [
    {
     "data": {
      "image/png": "[encoded data removed]",
      "text/plain": [
       "<Figure size 432x288 with 1 Axes>"
      ]
     },
     "metadata": {},
     "output_type": "display_data"
    }
   ],
   "source": [
    "data, label = ds.make_circles(n_samples=1000, factor=.4, noise=0.05)\n",
    "\n",
    "#Lets visualize the dataset\n",
    "reds = label == 0\n",
    "blues = label == 1\n",
    "plt.scatter(data[reds, 0], data[reds, 1], c=\"red\", s=20, edgecolor='k')\n",
    "plt.scatter(data[blues, 0], data[blues, 1], c=\"blue\", s=20, edgecolor='k')\n",
    "plt.show()\n"
   ]
  },
  {
   "cell_type": "code",
   "execution_count": 5,
   "metadata": {},
   "outputs": [
    {
     "ename": "NameError",
     "evalue": "name 'trainX' is not defined",
     "output_type": "error",
     "traceback": [
      "\u001b[1;31m---------------------------------------------------------------------------\u001b[0m",
      "\u001b[1;31mNameError\u001b[0m                                 Traceback (most recent call last)",
      "\u001b[1;32m<ipython-input-5-aaa20e68ebf9>\u001b[0m in \u001b[0;36m<module>\u001b[1;34m()\u001b[0m\n\u001b[0;32m      3\u001b[0m \u001b[0mlabel\u001b[0m \u001b[1;33m=\u001b[0m \u001b[0mnp\u001b[0m\u001b[1;33m.\u001b[0m\u001b[0mconcatenate\u001b[0m\u001b[1;33m(\u001b[0m\u001b[1;33m(\u001b[0m\u001b[0mclass_1_label\u001b[0m\u001b[1;33m,\u001b[0m\u001b[0mclass_2_label\u001b[0m\u001b[1;33m)\u001b[0m\u001b[1;33m,\u001b[0m\u001b[0maxis\u001b[0m\u001b[1;33m=\u001b[0m\u001b[1;36m0\u001b[0m\u001b[1;33m)\u001b[0m\u001b[1;33m\u001b[0m\u001b[0m\n\u001b[0;32m      4\u001b[0m \u001b[1;31m# Distribute this data into three parts i.e. training, validation and testing\u001b[0m\u001b[1;33m\u001b[0m\u001b[1;33m\u001b[0m\u001b[0m\n\u001b[1;32m----> 5\u001b[1;33m \u001b[0mtrainX\u001b[0m \u001b[1;31m# training data point\u001b[0m\u001b[1;33m\u001b[0m\u001b[0m\n\u001b[0m\u001b[0;32m      6\u001b[0m \u001b[0mtrainY\u001b[0m \u001b[1;31m# training lables\u001b[0m\u001b[1;33m\u001b[0m\u001b[0m\n\u001b[0;32m      7\u001b[0m \u001b[1;33m\u001b[0m\u001b[0m\n",
      "\u001b[1;31mNameError\u001b[0m: name 'trainX' is not defined"
     ]
    }
   ],
   "source": [
    "\n",
    "#Note: shuffle this dataset before dividing it into three parts\n",
    "\n",
    "# Distribute this data into three parts i.e. training, validation and testing\n",
    "trainX = ?# training data point\n",
    "trainY = ?# training lables\n",
    "\n",
    "validX = ? # validation data point\n",
    "validY = ?# validation lables\n",
    "\n",
    "testX = ?# testing data point\n",
    "testY = ?# testing lables\n",
    "\n",
    "\n"
   ]
  },
  {
   "cell_type": "code",
   "execution_count": null,
   "metadata": {},
   "outputs": [],
   "source": [
    "model = Neural_Network(2,1)\n",
    "# try different combinations of epochs and learning rate\n",
    "model.train(trainX, trainY, epochs = 150, learningRate = 0.001, validationX = validX, validationY = validY)"
   ]
  },
  {
   "cell_type": "code",
   "execution_count": null,
   "metadata": {},
   "outputs": [],
   "source": [
    "#save the best model which you have trained, \n",
    "model.save('bestmodel.mdl')"
   ]
  },
  {
   "cell_type": "markdown",
   "metadata": {},
   "source": [
    "#### Note: This below section will be used for the evaluation of this task, we need your model and we will run script below to evaluated your model"
   ]
  },
  {
   "cell_type": "code",
   "execution_count": null,
   "metadata": {},
   "outputs": [],
   "source": [
    "# create class object\n",
    "mm = Neural_Network()\n",
    "# load model which will be provided by you\n",
    "mm.load('bestmodel.mdl')\n",
    "# check accuracy of that model\n",
    "mm.accuracy(testX,testY)\n",
    "\n",
    "\n"
   ]
  }
 ],
 "metadata": {
  "kernelspec": {
   "display_name": "Python 3",
   "language": "python",
   "name": "python3"
  },
  "language_info": {
   "codemirror_mode": {
    "name": "ipython",
    "version": 3
   },
   "file_extension": ".py",
   "mimetype": "text/x-python",
   "name": "python",
   "nbconvert_exporter": "python",
   "pygments_lexer": "ipython3",
   "version": "3.6.5"
  }
 },
 "nbformat": 4,
 "nbformat_minor": 2
}
