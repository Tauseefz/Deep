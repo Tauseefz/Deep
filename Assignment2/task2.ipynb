{
 "cells": [
  {
   "cell_type": "markdown",
   "metadata": {},
   "source": [
    "<h1><center>Deep Learning</center></h1>\n",
    "<h2><center>Assignment # 2</center></h2>\n",
    "<h3><center>Task # 2</center></h3>"
   ]
  },
  {
   "cell_type": "code",
   "execution_count": 102,
   "metadata": {},
   "outputs": [],
   "source": [
    "# Include libraries which may use in implementation\n",
    "import numpy as np\n",
    "import random\n",
    "import sklearn.datasets as ds\n",
    "import matplotlib.pyplot as plt\n",
    "%matplotlib inline\n"
   ]
  },
  {
   "cell_type": "code",
   "execution_count": 209,
   "metadata": {},
   "outputs": [],
   "source": [
    "# Create a Neural_Network class\n",
    "class Neural_Network(object):        \n",
    "    def __init__(self,inputSize = 2,hiddenlayer = 2 ,outputSize = 1 ):        \n",
    "        # size of layers\n",
    "        self.inputSize = inputSize\n",
    "        self.outputSize = outputSize \n",
    "        self.hiddenLayer = hiddenlayer\n",
    "        #weights\n",
    "        self.W1 = np.random.rand(self.inputSize+1,self.outputSize)\n",
    "        # randomly initialize W1 using random function of numpy\n",
    "        # size of the wieght will be (inputSize +1, hiddenlayer) that +1 is for bias    \n",
    "        self.W2 = np.random.randn(self.hiddenLayer, self.outputSize) # randomly initialize W2 using random function of numpy\n",
    "        # size of the wieght will be (hiddenlayer +1, outputSize) that +1 is for bias    \n",
    "        \n",
    "    def feedforward(self, X):\n",
    "        #forward propagation through our network\n",
    "        # dot product of X (input) and set of weights\n",
    "        # apply activation function (i.e. whatever function was passed in initialization)  \n",
    "        #temp_x = self.sigmoid(np.dot(self.sigmoid(np.dot(X , self.W1)),self.W2))\n",
    "        temp_x = np.dot(X , self.W1)\n",
    "        z = self.tanh(temp_x)\n",
    "        z = np.insert(z, 1, 1, axis=1)\n",
    "        #trainY = trainY.reshape(trainY.shape[0], -1)\n",
    "        z2 = np.dot(z , self.W2)\n",
    "        z2 = self.sigmoid(z2)\n",
    "        \n",
    "        return z2 # return your answer with as a final output of the network\n",
    "\n",
    "    def sigmoid(self, s):\n",
    "        # activation function\n",
    "        return 1/(1+np.exp(-s))  # apply sigmoid function on s and return it's value\n",
    "\n",
    "    def sigmoid_derivative(self, s):\n",
    "        #derivative of sigmoid\n",
    "        return self.sigmoid(s)* (1 - self.sigmoid(s)) # apply derivative of sigmoid on s and return it's value \n",
    "    \n",
    "    def tanh(self, s):\n",
    "        # activation function\n",
    "        return np.tanh(s) # apply tanh function on s and return it's value\n",
    "\n",
    "    def tanh_derivative(self, s):\n",
    "        #derivative of tanh\n",
    "        return 1.0 - np.tanh(s)**2 # apply derivative of tanh on s and return it's value\n",
    "    \n",
    "    def relu(self, s):\n",
    "        # activation function\n",
    "        #if s >= 0 :\n",
    "         #   return s\n",
    "        #else:\n",
    "         #   return 0 # apply relu function on s and return it's value\n",
    "        return np.max(s, 0)\n",
    "\n",
    "    def relu_derivative(self, s):\n",
    "        #derivative of relu\n",
    "        if s >= 0:\n",
    "            return 1\n",
    "        else:\n",
    "            return 0\n",
    "         # apply derivative of relu on s and return it's value\n",
    "\n",
    "    def backwardpropagate(self,X, Y, y_pred, lr):\n",
    "        # backward propagate through the network\n",
    "        # compute error in output which is loss compute cross entropy loss function\n",
    "        # applying derivative of that applied activation function to the error\n",
    "        # adjust set of weights\n",
    "        #Updating W1\n",
    "        prev_W2 = self.W2\n",
    "        #prev_W2 = np.insert(prev_W2, 1, 1, axis=1)\n",
    "        z1 = np.dot(X , self.W1)\n",
    "        z1 = self.tanh(z1)\n",
    "        #updating W2 below\n",
    "        sig_y_pred = self.sigmoid_derivative(y_pred)\n",
    "        error = self.crossentropy_derivative(Y , y_pred)\n",
    "        \n",
    "        temp_w = self.W2 - lr * np.dot(z1.T , error * sig_y_pred)\n",
    "        self.W2 = temp_w\n",
    "        error = np.insert(error, 1, 0, axis=1)\n",
    "        \n",
    "        #prev_W2 = np.delete(prev_W2 ,0, axis=1)\n",
    "        error_w1 = self.tanh_derivative(z1)*np.dot(error , self.W2)\n",
    "        #error_z1 = self.crossentropy_derivative( , y_pred)\n",
    "        #error = self.crossentropy_derivative(Y , temp)\n",
    "        \n",
    "        temp_w = self.W1 - lr * np.dot(X.T , error_w1)\n",
    "        self.W1 = temp_w\n",
    "    def crossentropy_derivative(self, Y, Y_pred):\n",
    "        return Y * (Y_pred - 1) + (1 - Y) * Y_pred\n",
    "    def crossentropy(self, Y, Y_pred):\n",
    "        # compute error based on crossentropy loss \n",
    "        return -np.mean(Y * np.log(Y_pred) + (1 - Y) * np.log(1 - Y_pred)) #error\n",
    "\n",
    "    def train(self, trainX, trainY,validX,validY,epochs = 100, learningRate = 0.001, plot_err = True ):\n",
    "        # feed forward trainX and trainY and recivce predicted value\n",
    "        # backpropagation with trainX, trainY, predicted value and learning rate.\n",
    "        # if validationX and validationY are not null than show validation accuracy and error of the model by printing values.\n",
    "        # plot error of the model if plot_err is true\n",
    "        trainX = np.insert(trainX, 2, 1, axis=1)\n",
    "        trainY = trainY.reshape(trainY.shape[0], -1)\n",
    "        loss_history=[]\n",
    "        for i in range(epochs):\n",
    "            \n",
    "            z2 = self.feedforward(trainX)\n",
    "            loss_history.append(self.crossentropy(trainY ,z2 ))\n",
    "            self.backwardpropagate(trainX , trainY , z2 , learningRate )\n",
    "        if plot_err:\n",
    "            plt.plot(loss_history)\n",
    "            \n",
    "        validX = np.insert(validX, 2, 1, axis=1)\n",
    "        y_hat_valid = self.feedforward(validX)\n",
    "        valid_loss = self.crossentropy(validY , y_hat_valid)\n",
    "        count = 0 \n",
    "        for i in range(len(validX)):\n",
    "            \n",
    "            if(y_hat_valid[i]>0.5 and testY[i] == 1):\n",
    "                count = count+1\n",
    "            if(y_hat_valid[i]<0.5 and testY[i] == 0):\n",
    "                count = count+1\n",
    "        accuracy = count/len(testX)\n",
    "        print(accuracy)\n",
    "        \n",
    "\n",
    "    def predict(self, testX):\n",
    "        # predict the value of testX\n",
    "        testX = np.insert(testX, 2, 1, axis=1)\n",
    "        testY = self.feedforward(testX)\n",
    "        return testY\n",
    "    \n",
    "    def accuracy(self, testX, testY):\n",
    "        # predict the value of trainX\n",
    "        count = 0\n",
    "        \n",
    "        test_hat_y = np.around(self.predict(testX))\n",
    "        #round(test_hat_y)\n",
    "        for i in range(len(testY)):\n",
    "            if testY[i] == test_hat_y[i]:\n",
    "                count = count + 1\n",
    "        #compute accuracy, print it and show in the form of picture\n",
    "        accuracy = float(count/len(testY)) * 100\n",
    "        #print(testY , test_hat_y)\n",
    "        return accuracy # return accuracy    \n",
    "        \n",
    "    def saveModel(self,name):\n",
    "        np.savetxt(name, self.W1, fmt='%f')\n",
    "        np.savetxt(name, self.W2, fmt=\"%s\")\n",
    "\n",
    "        \n",
    "    def loadModel(self,name):\n",
    "        W1 = np.loadtxt(name, dtype=float)\n",
    "        W2 = np.loadtxt(name, dtype=float)\n",
    "        print(W1,W2)"
   ]
  },
  {
   "cell_type": "code",
   "execution_count": 210,
   "metadata": {},
   "outputs": [
    {
     "data": {
      "image/png": "[encoded data removed]",
      "text/plain": [
       "<Figure size 432x288 with 1 Axes>"
      ]
     },
     "metadata": {},
     "output_type": "display_data"
    }
   ],
   "source": [
    "data, label = ds.make_circles(n_samples=1000, factor=.4, noise=0.05)\n",
    "\n",
    "#Lets visualize the dataset\n",
    "reds = label == 0\n",
    "blues = label == 1\n",
    "plt.scatter(data[reds, 0], data[reds, 1], c=\"red\", s=20, edgecolor='k')\n",
    "plt.scatter(data[blues, 0], data[blues, 1], c=\"blue\", s=20, edgecolor='k')\n",
    "plt.show()\n"
   ]
  },
  {
   "cell_type": "code",
   "execution_count": 211,
   "metadata": {},
   "outputs": [
    {
     "name": "stdout",
     "output_type": "stream",
     "text": [
      "(150, 2)\n"
     ]
    }
   ],
   "source": [
    "from sklearn.model_selection import train_test_split\n",
    "#data = np.concatenate((class1,class2),axis=0)\n",
    "#label = np.concatenate((class_1_label,class_2_label),axis=0)\n",
    "tempX, testX, tempY, testY = train_test_split(data, label, test_size=0.15)\n",
    "trainX, validX, trainY, validY = train_test_split(tempX, tempY, test_size=0.15)\n",
    "#Note: shuffle this dataset before dividing it into three parts\n",
    "\n",
    "# Distribute this data into three parts i.e. training, validation and testing\n",
    "#trainX = ?# training data point\n",
    "#trainY = ?# training lables\n",
    "\n",
    "#validX = ? # validation data point\n",
    "#validY = ?# validation lables\n",
    "\n",
    "#testX = ?# testing data point\n",
    "#testY = ?# testing lables\n",
    "print(testX.shape)\n",
    "\n"
   ]
  },
  {
   "cell_type": "code",
   "execution_count": 230,
   "metadata": {},
   "outputs": [
    {
     "name": "stdout",
     "output_type": "stream",
     "text": [
      "0.4533333333333333\n"
     ]
    },
    {
     "data": {
      "image/png": "[encoded data removed]",
      "text/plain": [
       "<Figure size 432x288 with 1 Axes>"
      ]
     },
     "metadata": {},
     "output_type": "display_data"
    }
   ],
   "source": [
    "np.random.seed(1)\n",
    "\n",
    "model = Neural_Network(2,2,1)\n",
    "# try different combinations of epochs and learning rate\n",
    "model.train(trainX, trainY,validX ,  validY,epochs = 150, learningRate = 0.01  )"
   ]
  },
  {
   "cell_type": "code",
   "execution_count": 213,
   "metadata": {},
   "outputs": [],
   "source": [
    "#save the best model which you have trained, \n",
    "model.saveModel('bestmodel2.mdl')"
   ]
  },
  {
   "cell_type": "markdown",
   "metadata": {},
   "source": [
    "#### Note: This below section will be used for the evaluation of this task, we need your model and we will run script below to evaluated your model"
   ]
  },
  {
   "cell_type": "code",
   "execution_count": 229,
   "metadata": {},
   "outputs": [
    {
     "name": "stdout",
     "output_type": "stream",
     "text": [
      "[-3.67786955 -3.32457452] [-3.67786955 -3.32457452]\n"
     ]
    },
    {
     "data": {
      "text/plain": [
       "58.666666666666664"
      ]
     },
     "execution_count": 229,
     "metadata": {},
     "output_type": "execute_result"
    }
   ],
   "source": [
    "# create class object\n",
    "mm = Neural_Network()\n",
    "# load model which will be provided by you\n",
    "mm.loadModel('bestmodel2.mdl')\n",
    "# check accuracy of that model\n",
    "mm.accuracy(testX,testY)\n",
    "\n",
    "\n"
   ]
  },
  {
   "cell_type": "code",
   "execution_count": null,
   "metadata": {},
   "outputs": [],
   "source": []
  },
  {
   "cell_type": "code",
   "execution_count": null,
   "metadata": {},
   "outputs": [],
   "source": []
  }
 ],
 "metadata": {
  "kernelspec": {
   "display_name": "Python 3",
   "language": "python",
   "name": "python3"
  },
  "language_info": {
   "codemirror_mode": {
    "name": "ipython",
    "version": 3
   },
   "file_extension": ".py",
   "mimetype": "text/x-python",
   "name": "python",
   "nbconvert_exporter": "python",
   "pygments_lexer": "ipython3",
   "version": "3.6.5"
  }
 },
 "nbformat": 4,
 "nbformat_minor": 2
}
