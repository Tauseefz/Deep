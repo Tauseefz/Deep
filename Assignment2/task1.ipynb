{
 "cells": [
  {
   "cell_type": "markdown",
   "metadata": {},
   "source": [
    "<h1><center>Deep Learning</center></h1>\n",
    "<h2><center>Assignment # 2</center></h2>\n",
    "<h3><center>Task # 1</center></h3>"
   ]
  },
  {
   "cell_type": "code",
   "execution_count": 1,
   "metadata": {},
   "outputs": [],
   "source": [
    "# Include libraries which may use in implementation\n",
    "import numpy as np\n",
    "import random\n",
    "import matplotlib.pyplot as plt\n",
    "#from keras.models import load_model\n",
    "#from keras.models import model_from_json\n",
    "%matplotlib inline\n"
   ]
  },
  {
   "cell_type": "code",
   "execution_count": 16,
   "metadata": {},
   "outputs": [],
   "source": [
    "# Create a Neural_Network class\n",
    "class Neural_Network(object):    \n",
    "    def __init__(self,inputSize = 2,outputSize = 1 ):        \n",
    "        # size of layers\n",
    "        self.inputSize = inputSize \n",
    "        self.outputSize = outputSize    \n",
    "        #weights\n",
    "        self.W1 = np.random.rand(self.inputSize + 1, self.outputSize) # randomly initialize W1 using random function of numpy\n",
    "        # size of the wieght will be (inputSize +1, outputSize) that +1 is for bias    \n",
    "\n",
    "    def feedforward(self, X):\n",
    "        #forward propagation through our network\n",
    "        # dot product of X (input) and set of weights\n",
    "        # apply activation function (i.e. sigmoid) \n",
    "        temp_x = np.dot(X , self.W1)\n",
    "        y_hat = self.sigmoid(temp_x)\n",
    "        return y_hat # return your answer with as a final output of the network\n",
    "\n",
    "    def sigmoid(self, s):\n",
    "        # activation function\n",
    "        \n",
    "        return 1/(1+np.exp(-s)) # apply sigmoid function on s and return it's value\n",
    "\n",
    "    def sigmoid_derivative(self, s):\n",
    "        #derivative of sigmoid\n",
    "        return self.sigmoid(s)* (1 - self.sigmoid(s)) # apply derivative of sigmoid on s and return it's value \n",
    "\n",
    "    def backwardpropagate(self,X, Y, y_pred, lr):\n",
    "        # backward propagate through the network\n",
    "        # compute error in output which is loss compute cross entropy loss function\n",
    "        # applying derivative of sigmoid to the error\n",
    "        # adjust set of weights\n",
    "        sig_y_pred = self.sigmoid_derivative(y_pred)\n",
    "        error = self.crossentropy_derivative(Y , y_pred)\n",
    "        #print(error)\n",
    "        temp_w = self.W1 - lr * np.dot(X.T , error * sig_y_pred)\n",
    "        self.W1 = temp_w\n",
    "        return temp_w\n",
    "        \n",
    "    def crossentropy_derivative(self, Y, Y_pred):\n",
    "        return Y * (Y_pred - 1) + (1 - Y) * Y_pred\n",
    "    \n",
    "    def crossentropy(self, Y, Y_pred):\n",
    "        # compute error based on crossentropy loss \n",
    "         return -np.mean(Y * np.log(Y_pred) + (1 - Y) * np.log(1 - Y_pred))\n",
    "\n",
    "#,validationX = Null, validationY = Null\n",
    "    def train(self, trainX, trainY,validX , validY , epochs = 100, learningRate = 0.001, plot_err = True ):\n",
    "        # feed forward trainX and trainY and recivce predicted value\n",
    "        # backpropagation with trainX, trainY, predicted value and learning rate.\n",
    "        # if validationX and validationY are not null than show validation accuracy and error of the model.\n",
    "        # plot error of the model if plot_err is true\n",
    "        \n",
    "        trainX = np.insert(trainX, 2, 1, axis=1)\n",
    "        trainY = trainY.reshape(trainY.shape[0], -1)\n",
    "        \n",
    "        loss_history = []\n",
    "        for i in range(epochs):\n",
    "            \n",
    "            y_pred = self.feedforward(trainX)\n",
    "            loss_history.append(self.crossentropy(trainY, y_pred))\n",
    "            W = self.backwardpropagate(trainX , trainY , y_pred , learningRate )\n",
    "            \n",
    "        if plot_err:\n",
    "            plt.plot(loss_history)\n",
    "        validX = np.insert(validX, 2, 1, axis=1)\n",
    "        y_hat_valid = self.feedforward(validX)\n",
    "        valid_loss = self.crossentropy(validY , y_hat_valid)\n",
    "        count = 0 \n",
    "        for i in range(len(validX)):\n",
    "            \n",
    "            if(y_hat_valid[i]>0.5 and testY[i] == 1):\n",
    "                count = count+1\n",
    "            if(y_hat_valid[i]<0.5 and testY[i] == 0):\n",
    "                count = count+1\n",
    "        accuracy = count/len(testX)\n",
    "        print(\"Validation Accuracy \",accuracy,\",Validation Loss : \",valid_loss)\n",
    "        return W\n",
    "\n",
    "    def predict(self, testX):\n",
    "        # predict the value of testX\n",
    "        testX = np.insert(testX, 2, 1, axis=1)\n",
    "        testY = self.feedforward(testX)\n",
    "        return testY\n",
    "    \n",
    "    def accuracy(self, testX, testY):\n",
    "        #predict the value of trainX\n",
    "        #compare it with testY\n",
    "        count = 0\n",
    "        \n",
    "        test_hat_y = np.around(self.predict(testX))\n",
    "        #round(test_hat_y)\n",
    "        for i in range(len(testY)):\n",
    "            if testY[i] == test_hat_y[i]:\n",
    "                count = count + 1\n",
    "        #compute accuracy, print it and show in the form of picture\n",
    "        accuracy = float(count/len(testY)) * 100\n",
    "        #print(testY , test_hat_y)\n",
    "        return accuracy # return accuracy    \n",
    "        \n",
    "    def saveModel(self,name):\n",
    "        np.savetxt(name, self.W1, fmt='%f')\n",
    "        return\n",
    "\n",
    "        \n",
    "    def loadModel(self,name):\n",
    "        self.W1 = np.loadtxt(name, dtype=float)\n",
    "        print(self.W1)\n",
    "        return\n",
    "    \n"
   ]
  },
  {
   "cell_type": "code",
   "execution_count": 17,
   "metadata": {},
   "outputs": [
    {
     "data": {
      "image/png": "[encoded data removed]",
      "text/plain": [
       "<Figure size 432x288 with 1 Axes>"
      ]
     },
     "metadata": {},
     "output_type": "display_data"
    }
   ],
   "source": [
    "# generating dataset point\n",
    "np.random.seed(1)\n",
    "no_of_samples = 2000\n",
    "dims = 2\n",
    "#Generating random points of values between 0 to 1\n",
    "class1=np.random.rand(no_of_samples,dims)\n",
    "#To add separability we will add a bias of 1.1\n",
    "class2=np.random.rand(no_of_samples,dims)+1.1\n",
    "class_1_label=np.array([1 for n in range(no_of_samples)])\n",
    "class_2_label=np.array([0 for n in range(no_of_samples)])\n",
    "#Lets visualize the dataset\n",
    "plt.scatter(class1[:,0],class1[:,1], marker='^', label=\"class 1\")\n",
    "plt.scatter(class2[:,0],class2[:,1], marker='o', label=\"class 2\")\n",
    "plt.xlabel('Dimension 1')\n",
    "plt.ylabel('Dimension 2')\n",
    "plt.legend(loc='best')\n",
    "plt.show()"
   ]
  },
  {
   "cell_type": "code",
   "execution_count": 18,
   "metadata": {},
   "outputs": [],
   "source": [
    "# Data concatenation\n",
    "from sklearn.model_selection import train_test_split\n",
    "data = np.concatenate((class1,class2),axis=0)\n",
    "label = np.concatenate((class_1_label,class_2_label),axis=0)\n",
    "tempX, testX, tempY, testY = train_test_split(data, label, test_size=0.15)\n",
    "trainX, validX, trainY, validY = train_test_split(tempX, tempY, test_size=0.15)\n",
    "\n",
    "#Note: shuffle this dataset before dividing it into three parts\n",
    "\n",
    "# Distribute this data into three parts i.e. training, validation and testing\n",
    "#trainX = ?# training data point\n",
    "#trainY = ?# training lables\n",
    "\n",
    "#validX = ? # validation data point\n",
    "#validY = ?# validation lables\n",
    "\n",
    "#testX = ?# testing data point\n",
    "#testY = ?# testing lables\n",
    "\n",
    "\n"
   ]
  },
  {
   "cell_type": "code",
   "execution_count": 23,
   "metadata": {},
   "outputs": [
    {
     "name": "stdout",
     "output_type": "stream",
     "text": [
      "Validation Accuracy  0.44666666666666666 ,Validation Loss :  5.995013067245006\n"
     ]
    },
    {
     "data": {
      "text/plain": [
       "array([[-4.85617002],\n",
       "       [-4.73069268],\n",
       "       [ 9.78562584]])"
      ]
     },
     "execution_count": 23,
     "metadata": {},
     "output_type": "execute_result"
    },
    {
     "data": {
      "image/png": "[encoded data removed]",
      "text/plain": [
       "<Figure size 432x288 with 1 Axes>"
      ]
     },
     "metadata": {},
     "output_type": "display_data"
    }
   ],
   "source": [
    "np.random.seed(1)\n",
    "model = Neural_Network(2,1)\n",
    "#, validationX = validX, validationY = validY\n",
    "# try different combinations of epochs and learning rate\n",
    "model.train(trainX, trainY, validX,validX,epochs = 100, learningRate = 0.01)\n",
    "#print(model.accuracy(testX , testY))"
   ]
  },
  {
   "cell_type": "code",
   "execution_count": 21,
   "metadata": {},
   "outputs": [],
   "source": [
    "#save the best model which you have trained, \n",
    "model.saveModel('bestmodel.txt')"
   ]
  },
  {
   "cell_type": "markdown",
   "metadata": {},
   "source": [
    "#### Note: This below section will be used for the evaluation of this task, we need your model and we will run script below to evaluated your model"
   ]
  },
  {
   "cell_type": "code",
   "execution_count": 22,
   "metadata": {},
   "outputs": [
    {
     "name": "stdout",
     "output_type": "stream",
     "text": [
      "[-4.844964 -4.820236  9.869157]\n"
     ]
    },
    {
     "data": {
      "text/plain": [
       "100.0"
      ]
     },
     "execution_count": 22,
     "metadata": {},
     "output_type": "execute_result"
    }
   ],
   "source": [
    "# create class object\n",
    "mm = Neural_Network()\n",
    "# load model which will be provided by you\n",
    "mm.loadModel('bestmodel.txt')\n",
    "# check accuracy of that model\n",
    "mm.accuracy(testX,testY)\n",
    "\n",
    "\n"
   ]
  },
  {
   "cell_type": "code",
   "execution_count": null,
   "metadata": {},
   "outputs": [],
   "source": []
  },
  {
   "cell_type": "code",
   "execution_count": null,
   "metadata": {},
   "outputs": [],
   "source": []
  }
 ],
 "metadata": {
  "kernelspec": {
   "display_name": "Python 3",
   "language": "python",
   "name": "python3"
  },
  "language_info": {
   "codemirror_mode": {
    "name": "ipython",
    "version": 3
   },
   "file_extension": ".py",
   "mimetype": "text/x-python",
   "name": "python",
   "nbconvert_exporter": "python",
   "pygments_lexer": "ipython3",
   "version": "3.6.5"
  }
 },
 "nbformat": 4,
 "nbformat_minor": 2
}
