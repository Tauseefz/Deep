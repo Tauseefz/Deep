{
 "cells": [
  {
   "cell_type": "code",
   "execution_count": 29,
   "metadata": {},
   "outputs": [
    {
     "name": "stdout",
     "output_type": "stream",
     "text": [
      "1515\n",
      "[0.76       0.57142857 1.         ... 0.57142857 0.71505376 0.48      ] [0.24       0.21428571 0.         ... 0.21428571 0.17204301 0.4       ]\n"
     ]
    },
    {
     "name": "stderr",
     "output_type": "stream",
     "text": [
      "C:\\aacoda\\lib\\site-packages\\ipykernel_launcher.py:42: RuntimeWarning: divide by zero encountered in true_divide\n"
     ]
    }
   ],
   "source": [
    "import numpy as np\n",
    "import json\n",
    "from sklearn.feature_extraction import text\n",
    "\n",
    "x = open('fedpapers_split.txt').read()\n",
    "papers = json.loads(x)\n",
    "\n",
    "papersH = papers[0] # papers by Hamilton \n",
    "papersM = papers[1] # papers by Madison\n",
    "papersD = papers[2] # disputed papers\n",
    "\n",
    "nH, nM, nD = len(papersH), len(papersM), len(papersD)\n",
    "\n",
    "# This allows you to ignore certain common words in English\n",
    "# You may want to experiment by choosing the second option or your own\n",
    "# list of stop words, but be sure to keep 'HAMILTON' and 'MADISON' in\n",
    "# this list at a minimum, as their names appear in the text of the papers\n",
    "# and leaving them in could lead to unpredictable results\n",
    "stop_words = text.ENGLISH_STOP_WORDS.union({'HAMILTON','MADISON'})\n",
    "#stop_words = {'HAMILTON','MADISON'}\n",
    "\n",
    "## Form bag of words model using words used at least 10 times\n",
    "vectorizer = text.CountVectorizer(stop_words,min_df=10)\n",
    "X = vectorizer.fit_transform(papersH+papersM+papersD).toarray()\n",
    "\n",
    "# Uncomment this line to see the full list of words remaining after filtering out \n",
    "# stop words and words used less than min_df times\n",
    "print(len(vectorizer.vocabulary_))\n",
    "#print((X.shape))\n",
    "# Split word counts into separate matrices\n",
    "XH, XM, XD = X[:nH,:], X[nH:nH+nM,:], X[nH+nM:,:]\n",
    "\n",
    "# Estimate probability of each word in vocabulary being used by Hamilton\n",
    "#calculating probablity of each word with the help of row sum of all matrices (cause each matrix has different size)\n",
    "fH = np.sum(XH,axis=0)/(np.sum(XH,axis=0)+np.sum(XM,axis=0)+np.sum(XD,axis=0))\n",
    "\n",
    "# Estimate probability of each word in vocabulary being used by Madison\n",
    "#fM = XM/(XH+XM+XD)\n",
    "fM = np.sum(XM,axis=0)/(np.sum(XH,axis=0)+np.sum(XM,axis=0)+np.sum(XD,axis=0) )\n",
    "#print(fH,fM)\n",
    "# Compute ratio of these probabilities\n",
    "fratio = fH/fM\n",
    "#print(fratio)\n",
    "# Compute prior probabilities \n",
    "#computing prior probablities using count of Hamiltion written essays with total count of essay and similarly for Madison.\n",
    "piH = XH.shape[0]/X.shape[0]\n",
    "piM = XM.shape[0]/X.shape[0]\n",
    "#print(piH,piM)\n",
    "for xd in XD: # Iterate over disputed documents\n",
    "    \n",
    "    # Compute likelihood ratio for Naive Bayes model\n",
    "    #LR = ???\n",
    "    #if LR>0.5:\n",
    "     #   print 'Hamilton'\n",
    "    #else:\n",
    "     #   print 'Madison'\n",
    "    "
   ]
  },
  {
   "cell_type": "code",
   "execution_count": null,
   "metadata": {},
   "outputs": [],
   "source": []
  }
 ],
 "metadata": {
  "kernelspec": {
   "display_name": "Python 3",
   "language": "python",
   "name": "python3"
  },
  "language_info": {
   "codemirror_mode": {
    "name": "ipython",
    "version": 3
   },
   "file_extension": ".py",
   "mimetype": "text/x-python",
   "name": "python",
   "nbconvert_exporter": "python",
   "pygments_lexer": "ipython3",
   "version": "3.6.5"
  }
 },
 "nbformat": 4,
 "nbformat_minor": 2
}
