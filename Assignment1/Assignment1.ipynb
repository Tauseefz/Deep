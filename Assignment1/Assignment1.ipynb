{
 "cells": [
  {
   "cell_type": "markdown",
   "metadata": {
    "colab_type": "text",
    "id": "IkAKfeAuSJ1G"
   },
   "source": [
    "<h1><center>Deep Learning</center></h1>\n",
    "<h2><center>Assignment # 1</center></h2>\n",
    "#### Brief\n",
    "• Due date: 21 Feb, 2018 Thursday 11:59 PM<br>\n",
    "• **First part:** Data visualization and pre-processing<br> \n",
    "• **Second Part:** Implement linear regression<br>\n",
    "• **Third Part:** Read Paper and write summary<br> \n",
    "• **Required ﬁles:** Submit your ipython notebook (this file under the name of **RollNumber_A01.ipynb**) along with a **RollNumber_ReportA01.pdf (no docs or text file)** (strictly follow this notation).<br>\n",
    "• Submission: Google Classroom<br>\n",
    "\n",
    "#### Marks Distribution\n",
    "Part 1: 10 Marks <br>\n",
    "Part 2: 25 Marks <br>\n",
    "Part 3: 15 Marks <br>\n",
    "\n",
    "#### Overview\n",
    "In the first part of this assignment, you have to pre-process the given data. In the second part implement the Linear Regression discussed in the class.<br>\n",
    "For the first part of the assignment, we will use 'googleplaystore.csv' dataset which contain information of application on the google play store. For the second part we will use scaled down version of boston house price dataset.\n",
    "All datasets have been provided along with this ipynb file on the classrom."
   ]
  },
  {
   "cell_type": "code",
   "execution_count": 1,
   "metadata": {
    "colab": {},
    "colab_type": "code",
    "id": "e6zy2QkASJ1L"
   },
   "outputs": [],
   "source": [
    "import pandas as pd\n",
    "import numpy as np\n",
    "import matplotlib.pyplot as plt\n",
    "import pickle\n",
    "%matplotlib inline\n"
   ]
  },
  {
   "cell_type": "markdown",
   "metadata": {
    "colab_type": "text",
    "id": "hKeETQ8CSJ1b"
   },
   "source": [
    "## Part 1\n",
    "### Data Pre-Processing and visualization"
   ]
  },
  {
   "cell_type": "code",
   "execution_count": 10,
   "metadata": {
    "colab": {},
    "colab_type": "code",
    "id": "s9_DmRbvSJ1f"
   },
   "outputs": [],
   "source": [
    "# There is a series of tutorials on pandas library https://www.tutorialspoint.com/python_pandas/python_pandas_introduction.htm\n",
    "\n",
    "# Load Dataset\n",
    "data = pd.read_csv('googleplaystore.csv')\n"
   ]
  },
  {
   "cell_type": "code",
   "execution_count": 11,
   "metadata": {
    "colab": {},
    "colab_type": "code",
    "id": "DD4dghTmSJ1w"
   },
   "outputs": [
    {
     "name": "stdout",
     "output_type": "stream",
     "text": [
      "App\n",
      "Category\n",
      "Rating\n",
      "Reviews\n",
      "Size\n",
      "Installs\n",
      "Type\n",
      "Price\n",
      "Content Rating\n",
      "Genres\n",
      "Last Updated\n",
      "Current Ver\n",
      "Android Ver\n"
     ]
    },
    {
     "data": {
      "text/plain": [
       "Index(['App', 'Category', 'Rating', 'Reviews', 'Size', 'Installs', 'Type',\n",
       "       'Price', 'Content Rating', 'Genres', 'Last Updated', 'Current Ver',\n",
       "       'Android Ver'],\n",
       "      dtype='object')"
      ]
     },
     "execution_count": 11,
     "metadata": {},
     "output_type": "execute_result"
    }
   ],
   "source": [
    "# Print the column names of the data variable\n",
    "\n",
    "for a in data:\n",
    "    print(a)\n",
    "#or\n",
    "data.columns"
   ]
  },
  {
   "cell_type": "code",
   "execution_count": 12,
   "metadata": {
    "colab": {},
    "colab_type": "code",
    "id": "hoLzOvHMSJ15"
   },
   "outputs": [
    {
     "name": "stdout",
     "output_type": "stream",
     "text": [
      "Index(['Profit'], dtype='object')\n"
     ]
    }
   ],
   "source": [
    "# Write a method to calculate the total profit (i.e. No. of installations x price) of all apps which are 4.3 or below\n",
    "import re\n",
    "import math\n",
    "total_profit=0\n",
    "temp = []\n",
    "temp2 = []\n",
    "temp3=[]\n",
    "#Converting Installation and Price into int and float from string type\n",
    "for a in data['Installs']:\n",
    "    int_x = re.sub('[^A-Za-z0-9]+', '', a)\n",
    "    temp.append(int(int_x))\n",
    "for p in data['Price']:\n",
    "    int_p = re.sub('[^A-Za-z0-9]+', '', p)\n",
    "    temp2.append(float(int_p))\n",
    "data['Profit'] = temp\n",
    "data['Price'] = temp2\n",
    "#Calculating Profit for app with Rating 4.3 or below\n",
    "\n",
    "\n",
    "\n",
    "        \n",
    "    "
   ]
  },
  {
   "cell_type": "code",
   "execution_count": 14,
   "metadata": {},
   "outputs": [
    {
     "name": "stdout",
     "output_type": "stream",
     "text": [
      "<class 'pandas.core.frame.DataFrame'>\n"
     ]
    }
   ],
   "source": [
    "profit_rating = data.pivot_table(index='Rating' , values='Profit' ,aggfunc=np.sum)\n",
    "print(type(profit_rating))"
   ]
  },
  {
   "cell_type": "code",
   "execution_count": 5,
   "metadata": {
    "colab": {},
    "colab_type": "code",
    "id": "qt7T8puYSJ2L"
   },
   "outputs": [
    {
     "data": {
      "text/plain": [
       "App               Private Dating, Hide App- Blue for PrivacyHider\n",
       "Category                                                   DATING\n",
       "Rating                                                        NaN\n",
       "Reviews                                                         0\n",
       "Size                                                          18k\n",
       "Installs                                                     100+\n",
       "Type                                                         Paid\n",
       "Price                                                         299\n",
       "Content Rating                                           Everyone\n",
       "Genres                                                     Dating\n",
       "Last Updated                                            25-Jul-17\n",
       "Current Ver                                                 1.0.1\n",
       "Android Ver                                            4.0 and up\n",
       "Profit                                                        299\n",
       "Name: 479, dtype: object"
      ]
     },
     "execution_count": 5,
     "metadata": {},
     "output_type": "execute_result"
    }
   ],
   "source": [
    "# Some rating values are missing, fill those values by taking average of above and below app rating of that app. \n",
    "\n",
    "data['Profit'] = (data.Profit/100)* data.Price\n",
    "data.loc[479]"
   ]
  },
  {
   "cell_type": "code",
   "execution_count": 6,
   "metadata": {
    "colab": {},
    "colab_type": "code",
    "id": "dom3maUeSJ2o"
   },
   "outputs": [
    {
     "data": {
      "image/png": "[encoded data removed]",
      "text/plain": [
       "<Figure size 432x288 with 1 Axes>"
      ]
     },
     "metadata": {},
     "output_type": "display_data"
    }
   ],
   "source": [
    "# Create a histogram graph of total count of each category in the dataset. \n",
    "plt.bar = data.groupby('Category').size().plot(kind='bar', title='Different Categories')\n",
    "plt.show()"
   ]
  },
  {
   "cell_type": "code",
   "execution_count": 9,
   "metadata": {
    "colab": {},
    "colab_type": "code",
    "id": "mlGkX8z8SJ2x"
   },
   "outputs": [
    {
     "data": {
      "image/png": "[encoded data removed]",
      "text/plain": [
       "<Figure size 432x288 with 1 Axes>"
      ]
     },
     "metadata": {},
     "output_type": "display_data"
    }
   ],
   "source": [
    "# Draw a graph of profit generated by each android version.\n",
    "plt.bar = profit_version.plot.bar()\n",
    "plt.show()"
   ]
  },
  {
   "cell_type": "code",
   "execution_count": 7,
   "metadata": {
    "colab": {},
    "colab_type": "code",
    "id": "YwNjTh1RSJ3F"
   },
   "outputs": [
    {
     "data": {
      "image/png": "[encoded data removed]",
      "text/plain": [
       "<Figure size 432x288 with 1 Axes>"
      ]
     },
     "metadata": {},
     "output_type": "display_data"
    }
   ],
   "source": [
    "# Plot Number of installation which belongs to family category based on content rating.\n",
    "plt.bar = data.groupby('Content Rating').size().plot(kind='bar', title='Different Categories')\n",
    "plt.show()"
   ]
  },
  {
   "cell_type": "markdown",
   "metadata": {
    "colab_type": "text",
    "id": "YpYFXhH3SJ3Y"
   },
   "source": [
    "# Part 2\n",
    "### Linear Regression\n",
    "\n",
    "The goal of this assignment is to develop your understanding of a basic Machine Learning model and learn some basic concepts such as how datasets are visualised and misc. We think that it is necessary to not only understand the mathematics behind the models but also to know how to convert that knowledge into code that can work.\n",
    "\n",
    "\n",
    "\n",
    "Implementation detail of each step is given below."
   ]
  },
  {
   "cell_type": "code",
   "execution_count": 8,
   "metadata": {
    "colab": {},
    "colab_type": "code",
    "id": "hjnH5hLCSJ3c"
   },
   "outputs": [],
   "source": [
    "# Load Dataset\n",
    "#(x_train, y_train), (x_test, y_test)= pickle.load( open( \"dataset2.pkl\", \"rb\" ) )\n",
    "\n",
    "#You can load the second dataset in similar fashion\n",
    "(x_train, y_train), (x_test, y_test)= pickle.load( open( \"dataset.pkl\", \"rb\" ) )\n",
    "# to convert data from 2D i.e. N rows with 1 column to simple 1D N rows.\n",
    "x_train.resize(len(x_train))\n",
    "x_test.resize(len(x_test))\n"
   ]
  },
  {
   "cell_type": "markdown",
   "metadata": {
    "colab_type": "text",
    "id": "Kzt1xvt3SJ3w"
   },
   "source": [
    "#### Part 2.a Linear Regression(without gradient descent) "
   ]
  },
  {
   "cell_type": "code",
   "execution_count": 19,
   "metadata": {
    "colab": {},
    "colab_type": "code",
    "id": "NKlVUbDYSJ3z"
   },
   "outputs": [
    {
     "data": {
      "text/plain": [
       "<matplotlib.collections.PathCollection at 0x8c1e5d8828>"
      ]
     },
     "execution_count": 19,
     "metadata": {},
     "output_type": "execute_result"
    },
    {
     "data": {
      "image/png": "[encoded data removed]",
      "text/plain": [
       "<Figure size 432x288 with 1 Axes>"
      ]
     },
     "metadata": {},
     "output_type": "display_data"
    }
   ],
   "source": [
    "# Display training and testing dataset with different colors using matplotlib library.\n",
    "plt.scatter(x_train ,y_train ,  c=\"b\", alpha=0.5,label=\"Train\" )\n",
    "plt.scatter(x_test ,y_test, c='r')"
   ]
  },
  {
   "cell_type": "code",
   "execution_count": 41,
   "metadata": {
    "colab": {},
    "colab_type": "code",
    "id": "HLSe2htGSJ3-"
   },
   "outputs": [
    {
     "name": "stdout",
     "output_type": "stream",
     "text": [
      "404\n",
      "-0.9278216902292562 34.216255712624125\n"
     ]
    }
   ],
   "source": [
    "# Compute line parameters from training data. \n",
    "# Compute 'm' and 'c' of line by formula given in: https://wikimedia.org/api/rest_v1/media/math/render/svg/8d2945202d09869511723ad4b0dfe5926cc3d2a0\n",
    "# a-hat is c and b-hat is m in equation y = mx + c\n",
    "#print(x_train)\n",
    "cov=0\n",
    "var_x=0\n",
    "print(len(y_train))\n",
    "#print(x_sum)\n",
    "x_bar = sum(x_train)/len(x_train)\n",
    "y_bar = sum(y_train)/len(y_train)\n",
    "#print(x_bar)\n",
    "for i in range(len(x_train)):\n",
    "    cov = cov + (x_bar- x_train[i])*(y_bar - y_train[i])\n",
    "    var_x = var_x + (x_bar -x_train[i])*(x_bar -x_train[i])\n",
    "m = cov/var_x\n",
    "c = y_bar - (m*x_bar)\n",
    "print(m , c)   \n",
    "    #var_y = var_y + (y - y_bar)"
   ]
  },
  {
   "cell_type": "code",
   "execution_count": 0,
   "metadata": {
    "colab": {},
    "colab_type": "code",
    "id": "5ACgG0a-SJ4M"
   },
   "outputs": [],
   "source": [
    "# Implement mean square error function. i.e err = mean_square_error(Y_actual, Y_predicted)\n",
    "# where err is the mean square error of actual label (i.e. Y_actual) and predicted lable ( i.e. Y_predicted)"
   ]
  },
  {
   "cell_type": "code",
   "execution_count": 0,
   "metadata": {
    "colab": {},
    "colab_type": "code",
    "id": "j0JIgQb-SJ4c"
   },
   "outputs": [],
   "source": [
    "# Compute mean square error from line using training data i.e. training error."
   ]
  },
  {
   "cell_type": "code",
   "execution_count": 0,
   "metadata": {
    "colab": {},
    "colab_type": "code",
    "id": "qAGH5L5MSJ4v"
   },
   "outputs": [],
   "source": [
    "# Compute mean square error from line using test data i.e. test error."
   ]
  },
  {
   "cell_type": "code",
   "execution_count": 0,
   "metadata": {
    "colab": {},
    "colab_type": "code",
    "id": "-qZnc7gtSJ5I"
   },
   "outputs": [],
   "source": [
    "# Plot regression line on training and testing data separately."
   ]
  },
  {
   "cell_type": "markdown",
   "metadata": {
    "colab_type": "text",
    "id": "5Um68r5dSJ5R"
   },
   "source": [
    "#### Part 2.b Linear Regression (with gradient descent)"
   ]
  },
  {
   "cell_type": "code",
   "execution_count": 0,
   "metadata": {
    "colab": {},
    "colab_type": "code",
    "id": "TQoqttVuSJ5U"
   },
   "outputs": [],
   "source": [
    "# Initialize parameters i.e. learning rates, initial values of line parameters and number of epochs."
   ]
  },
  {
   "cell_type": "code",
   "execution_count": 0,
   "metadata": {
    "colab": {},
    "colab_type": "code",
    "id": "AqR_MBS8SJ5c"
   },
   "outputs": [],
   "source": [
    "# Predict output and update parameters using stochastic gradient descent.\n",
    "# Compute mean square error in each iteration using mean_square_error function and plot on the graph using matplotlib library"
   ]
  },
  {
   "cell_type": "code",
   "execution_count": 0,
   "metadata": {
    "colab": {},
    "colab_type": "code",
    "id": "P_-1-OBJSJ54"
   },
   "outputs": [],
   "source": [
    "# Compute mean square error of final trained parameters on testing data"
   ]
  },
  {
   "cell_type": "code",
   "execution_count": 0,
   "metadata": {
    "colab": {},
    "colab_type": "code",
    "id": "raMynt38SJ6L"
   },
   "outputs": [],
   "source": [
    "# Plot a regression line on the training and the testing data separately."
   ]
  },
  {
   "cell_type": "markdown",
   "metadata": {
    "colab_type": "text",
    "id": "buzxF4m5SJ6Z"
   },
   "source": [
    "# Part 3"
   ]
  },
  {
   "cell_type": "markdown",
   "metadata": {
    "colab_type": "text",
    "id": "wtRaVcijSJ6b"
   },
   "source": [
    "#### Details\n",
    "\n",
    "• Theoratical:\n",
    "<p style=\"text-indent: 1em;\">• Answer the following question: For a 10 dimensional dataset, What is the minimum number of points that are required to fit a hyperplane? (3 Points)</p>\n",
    "<p style=\"text-indent: 1em;\">• Read the following paper \"Deep Learning\" (http://pages.cs.wisc.edu/~dyer/cs540/handouts/deeplearning-nature2015.pdf). It is an exciting paper published in Nature and written by three pioneers of the deep learning — Yann LeCun, Yoshua Bengio and Geoffrey Hinton. The tripod of deep learning if you will :). The objective of this reading is to get you guys excited about deep learning and what can be / has been achieved with it. Write a summary of this paper, and let us know what it is that you find most exciting about deep learning and why? Your summary should not exceed 200 words. </p>\n",
    "<p style=\"text-indent: 1em;\">• Question 1: Write a summary of the paper (7 Points) </p>\n",
    "<p style=\"text-indent: 1em;\">• Question 2: What is the difference between deep and shallow learning. Explain with concrete example(s) when shallow learning is suitable as compared to deep learning and vise versa. (5 Points)\n",
    "</p><br>\n",
    "\n",
    "\n",
    "#### Note (Again): Submit your ipython notebook (this file under the name of RollNumber_A01.ipynb) along with a RollNumber_ReportA01.pdf (no docs or text file) (strictly follow this notation)."
   ]
  },
  {
   "cell_type": "code",
   "execution_count": 0,
   "metadata": {
    "colab": {},
    "colab_type": "code",
    "id": "kr5QODfYSJ6i"
   },
   "outputs": [],
   "source": []
  }
 ],
 "metadata": {
  "colab": {
   "collapsed_sections": [],
   "name": "Assignment1.ipynb",
   "provenance": [],
   "version": "0.3.2"
  },
  "kernelspec": {
   "display_name": "Python 3",
   "language": "python",
   "name": "python3"
  },
  "language_info": {
   "codemirror_mode": {
    "name": "ipython",
    "version": 3
   },
   "file_extension": ".py",
   "mimetype": "text/x-python",
   "name": "python",
   "nbconvert_exporter": "python",
   "pygments_lexer": "ipython3",
   "version": "3.6.5"
  }
 },
 "nbformat": 4,
 "nbformat_minor": 1
}
